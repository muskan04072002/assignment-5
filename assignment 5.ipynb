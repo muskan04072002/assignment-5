{
 "cells": [
  {
   "cell_type": "markdown",
   "id": "a19ca0ec",
   "metadata": {},
   "source": [
    "## Sqaure Numbers and Return thier sum:-"
   ]
  },
  {
   "cell_type": "code",
   "execution_count": 15,
   "id": "c29d6e51",
   "metadata": {},
   "outputs": [
    {
     "data": {
      "text/plain": [
       "35"
      ]
     },
     "execution_count": 15,
     "metadata": {},
     "output_type": "execute_result"
    }
   ],
   "source": [
    "class Point:\n",
    "    def __init__(self,x,y,z):\n",
    "        self.x=x\n",
    "        self.y=y\n",
    "        self.z=z\n",
    "    def sqSum(self):\n",
    "        return ((self.x**2) + (self.y**2) + (self.z**2))\n",
    "    \n",
    "Num = Point(1,3,5)\n",
    "Num.sqSum()"
   ]
  },
  {
   "cell_type": "markdown",
   "id": "4aca6bb1",
   "metadata": {},
   "source": [
    "##  implement a calculator class:-"
   ]
  },
  {
   "cell_type": "code",
   "execution_count": 16,
   "id": "51ffb07b",
   "metadata": {},
   "outputs": [
    {
     "name": "stdout",
     "output_type": "stream",
     "text": [
      "104\n",
      "84\n",
      "940\n",
      "9.4\n"
     ]
    }
   ],
   "source": [
    "class Calculator:\n",
    "    \n",
    "    def __init__(self,num1,num2):\n",
    "        self.num1=num1\n",
    "        self.num2=num2\n",
    "    \n",
    "    def add(self):\n",
    "        return self.num1 + self.num2\n",
    "    \n",
    "    def subtract(self):\n",
    "        return self.num2 - self.num1\n",
    "    \n",
    "    def multiply(self):\n",
    "        return self.num1 * self.num2\n",
    "    \n",
    "    def divide(self):\n",
    "        return self.num2 / self.num1\n",
    "    \n",
    "    \n",
    "obj = Calculator(10,94)\n",
    "\n",
    "print(obj.add())\n",
    "print(obj.subtract())\n",
    "print(obj.multiply())\n",
    "print(obj.divide())   "
   ]
  },
  {
   "cell_type": "markdown",
   "id": "be0836b0",
   "metadata": {},
   "source": [
    "## Implement The Complete Student Class:-\n"
   ]
  },
  {
   "cell_type": "code",
   "execution_count": 20,
   "id": "d21d2aa7",
   "metadata": {},
   "outputs": [
    {
     "name": "stdout",
     "output_type": "stream",
     "text": [
      "Muskan\n",
      "29\n"
     ]
    }
   ],
   "source": [
    "class Student:\n",
    "    def setName(self,name):\n",
    "        self.__name=name\n",
    "    def getName(self):\n",
    "        return self.__name\n",
    "    def setRollNumber(self,rollno):\n",
    "        self.__rollno=rollno\n",
    "    def getRollNumber(self):\n",
    "        return self.__rollno\n",
    "s=Student()\n",
    "s.setName(\"Muskan\")\n",
    "print(s.getName())\n",
    "s.setRollNumber(29)\n",
    "print(s.getRollNumber())"
   ]
  },
  {
   "cell_type": "markdown",
   "id": "cabdc97b",
   "metadata": {},
   "source": [
    "##  Implement The Banking Account:-"
   ]
  },
  {
   "cell_type": "code",
   "execution_count": 22,
   "id": "9b82d5f0",
   "metadata": {},
   "outputs": [
    {
     "name": "stdout",
     "output_type": "stream",
     "text": [
      "Account Details :- \n",
      "Name of the Account Holder is Muskan\n",
      "Available Balance is 2000 Rs\n",
      "Here, Muskan is the title, 2000 is the balance . \n",
      "**************************************************************************************************************\n",
      "Savings Account Details\n",
      "Name of the Account Holder is Muskan\n",
      "Available Balance is 2000 Rs\n",
      "Name of the Account Holder is Muskan\n",
      "Interest Rate on Current Balance in percent is 2\n",
      "***************************************************************************************************************\n",
      "Here, Muskan is the title, 2000 is the balance and TheinterestRate is 2\n"
     ]
    }
   ],
   "source": [
    "class Account:\n",
    "    def __init__(self,title=None,balance=0):\n",
    "        self.title=title\n",
    "        self.balance=balance\n",
    "    \n",
    "class SavingsAccount(Account):\n",
    "    def __init__(self, title=None, balance=0,InterestRate=0):\n",
    "        super().__init__(title, balance)\n",
    "        self.title=title\n",
    "        self.balance=balance\n",
    "        self.InterestRate=InterestRate\n",
    "\n",
    "print(\"Account Details :- \")\n",
    "A=Account(\"Muskan\", 2000)\n",
    "print(f\"Name of the Account Holder is {A.title}\")\n",
    "print(f\"Available Balance is {A.balance} Rs\")\n",
    "print(f\"Here, {A.title} is the title, {A.balance} is the balance . \")\n",
    "print(\"**************************************************************************************************************\")\n",
    "print(\"Savings Account Details\")\n",
    "SA=SavingsAccount(\"Muskan\", 2000, 2)\n",
    "print(f\"Name of the Account Holder is {SA.title}\")\n",
    "print(f\"Available Balance is {SA.balance} Rs\")\n",
    "print(f\"Name of the Account Holder is {A.title}\")\n",
    "print(f\"Interest Rate on Current Balance in percent is {SA.InterestRate}\")\n",
    "print(\"***************************************************************************************************************\")\n",
    "print(f\"Here, {SA.title} is the title, {SA.balance} is the balance and TheinterestRate is {SA.InterestRate}\")"
   ]
  },
  {
   "cell_type": "markdown",
   "id": "835dc0a4",
   "metadata": {},
   "source": [
    "##  Handling A Bank Account:-"
   ]
  },
  {
   "cell_type": "code",
   "execution_count": 19,
   "id": "ee13fe4a",
   "metadata": {},
   "outputs": [
    {
     "name": "stdout",
     "output_type": "stream",
     "text": [
      "2500\n",
      "1500\n",
      "100.0\n",
      "2500\n",
      "1500\n",
      "100.0\n"
     ]
    }
   ],
   "source": [
    "class Account:\n",
    "    def __init__(self, title, balance):\n",
    "        self.title = title\n",
    "        self.balance = balance\n",
    "    \n",
    "    def withdrawal(self, amount):\n",
    "        self.balance=self.balance - amount\n",
    "            \n",
    "    def deposit(self, amount):\n",
    "       self.balance=self.balance + amount \n",
    "       \n",
    "    def getBalance(self):\n",
    "        return self.balance\n",
    "\n",
    "class SavingsAccount(Account):\n",
    "    def __init__(self, title=None, balance=0, interestRate=0):\n",
    "            super().__init__(title, balance)\n",
    "            self.interestRate = interestRate\n",
    "    \n",
    "    def interestAmount(self):\n",
    "        return (self.balance*self.interestRate)/100\n",
    "Ad=SavingsAccount(\"Asish\",2000)\n",
    "Ad.deposit(500)\n",
    "Ad.getBalance()\n",
    "print(Ad.getBalance())\n",
    "\n",
    "Aw=SavingsAccount(\"Asish\",2000)\n",
    "Aw.withdrawal(500)\n",
    "Aw.getBalance()\n",
    "print(Aw.getBalance())\n",
    "\n",
    "Si=SavingsAccount(\"Asish\",2000,5)\n",
    "print(Si.interestAmount())\n",
    "\n",
    "class Account:\n",
    "    def __init__(self, title, balance):\n",
    "        self.title = title\n",
    "        self.balance = balance\n",
    "    \n",
    "    def withdrawal(self, amount):\n",
    "        self.balance=self.balance - amount        \n",
    "    \n",
    "    def deposit(self, amount):\n",
    "       self.balance=self.balance + amount \n",
    "       \n",
    "    def getBalance(self):\n",
    "        return self.balance\n",
    "\n",
    "class SavingsAccount(Account):\n",
    "    def __init__(self, title=None, balance=0, interestRate=0):\n",
    "            super().__init__(title, balance)\n",
    "            self.interestRate = interestRate\n",
    "    \n",
    "    def interestAmount(self):\n",
    "        return (self.balance*self.interestRate)/100\n",
    "Ad=Account(\"Asish\",2000)\n",
    "Ad.deposit(500)\n",
    "Ad.getBalance()\n",
    "print(Ad.getBalance())\n",
    "\n",
    "Aw=Account(\"Asish\",2000)\n",
    "Aw.withdrawal(500)\n",
    "Aw.getBalance()\n",
    "print(Aw.getBalance())\n",
    "\n",
    "demo1=SavingsAccount(\"Asish\",2000,5)\n",
    "print(Si.interestAmount())"
   ]
  },
  {
   "cell_type": "code",
   "execution_count": null,
   "id": "32d001b4",
   "metadata": {},
   "outputs": [],
   "source": []
  }
 ],
 "metadata": {
  "kernelspec": {
   "display_name": "Python 3 (ipykernel)",
   "language": "python",
   "name": "python3"
  },
  "language_info": {
   "codemirror_mode": {
    "name": "ipython",
    "version": 3
   },
   "file_extension": ".py",
   "mimetype": "text/x-python",
   "name": "python",
   "nbconvert_exporter": "python",
   "pygments_lexer": "ipython3",
   "version": "3.9.12"
  }
 },
 "nbformat": 4,
 "nbformat_minor": 5
}
